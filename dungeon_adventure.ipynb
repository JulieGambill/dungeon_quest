{
 "cells": [
  {
   "cell_type": "markdown",
   "id": "54471718",
   "metadata": {},
   "source": [
    "# Dungeon Adventure Game - Instructions\n",
    "\n",
    "In this exercise, you will build a text-based dungeon adventure game in Python.\n",
    "\n",
    "You will apply everything you've learned so far, including:\n",
    "- Variables\n",
    "- Operators\n",
    "- Lists\n",
    "- Dictionaries\n",
    "- Loops\n",
    "- Conditionals\n",
    "- The `random` module\n",
    "\n",
    "Follow the prompts in each section to build your game step by step. By the end, you will have a fully functioning game where the player can explore rooms, search for treasure, avoid traps, and see their final score based on the treasures collected.\n",
    "\n",
    "Complete each section before moving on to the next.\n"
   ]
  },
  {
   "cell_type": "code",
   "execution_count": 1,
   "id": "eee84ad5",
   "metadata": {},
   "outputs": [],
   "source": [
    "# Step 1: Player Setup\n",
    "# Prompt the player for their name.\n",
    "# Set health to 10.\n",
    "# Create an empty list to store their inventory."
   ]
  },
  {
   "cell_type": "code",
   "execution_count": null,
   "id": "e2fd3bad",
   "metadata": {},
   "outputs": [
    {
     "name": "stdout",
     "output_type": "stream",
     "text": [
      "Welcome to Dungeon Quest!  Find treasure and escape traps through 5 dungeon rooms to win!\n",
      "Enter your player name:\n",
      "Hello, Julie! Good luck on your quest!\n",
      "Your health starts at 10.\n"
     ]
    }
   ],
   "source": [
    "print(\"Welcome to Dungeon Quest!  Find treasure and escape traps through 5 dungeon rooms to win!\")\n",
    "print(\"Enter your player name:\")\n",
    "player_name = input()\n",
    "print()\n",
    "print(f\"Hello,\", player_name + \"!\", \"Good luck on your quest!\")\n",
    "print(\"Your health starts at 10.\")\n",
    "player_health = 10 #Initial Health Status\n",
    "player_inventory = []\n",
    "print()"
   ]
  },
  {
   "cell_type": "code",
   "execution_count": null,
   "id": "3a0aecec",
   "metadata": {},
   "outputs": [],
   "source": [
    "# Step 2: Treasure Dictionary\n",
    "# Create a dictionary of treasures where the keys are treasure names\n",
    "# and the values are the gold value of each treasure.\n"
   ]
  },
  {
   "cell_type": "code",
   "execution_count": null,
   "id": "eb0d1c8a",
   "metadata": {},
   "outputs": [],
   "source": [
    "#Treaure Dictionary\n",
    "treasures = {\n",
    "    'plate': 5,\n",
    "    'goblet': 10,\n",
    "    'vase': 20,\n",
    "    'book': 35,\n",
    "    'helmet': 50,\n",
    "    'sword': 60,\n",
    "    'sheild': 75,\n",
    "    'necklace': 100\n",
    "}\n",
    "\n",
    "#Traps Dictionary\n",
    "traps = {\n",
    "    'arrows': 2,\n",
    "    'monster': 2,\n",
    "    'rockslide': 2,\n",
    "    'acidic fog': 2,\n",
    "    'snare': 2\n",
    "}"
   ]
  },
  {
   "cell_type": "code",
   "execution_count": null,
   "id": "1a24ddaf",
   "metadata": {},
   "outputs": [],
   "source": [
    "# Step 3: Game Loop - Moving through 5 rooms\n",
    "# Use a for loop to represent rooms 1 to 5.\n",
    "# In each room, display the current room number and the options:\n",
    "# 1. Search for treasure\n",
    "# 2. Move to next room\n",
    "# 3. Check health and inventory\n",
    "# 4. Quit the game\n",
    "# Make sure to handle each option appropriately."
   ]
  },
  {
   "cell_type": "code",
   "execution_count": null,
   "id": "e8853ef5",
   "metadata": {},
   "outputs": [],
   "source": [
    "\n",
    "#game play  \n",
    "import random\n",
    "dungeon_room = 1\n",
    "max_rooms = 5\n",
    "while dungeon_room <= max_rooms and player_health > 0:\n",
    "    print()\n",
    "    print('You have entered room:', dungeon_room)\n",
    "    print('What would you like to do?')\n",
    "    print('1. Search for treasure.')\n",
    "    print('2. Move to the next room.')\n",
    "    print('3. Check health and inventory.')\n",
    "    print('4. Quit the game.')\n",
    "    player_choice = input('Enter: 1, 2, 3, or 4: ')\n",
    "    print()\n",
    "#player choice\n",
    "    if player_choice == '1':\n",
    "        outcome = random.choice(['treasure', 'trap'])\n",
    "        if outcome == 'trap':\n",
    "            trap = random.choice(list(traps.keys()))\n",
    "            player_health -= 2\n",
    "            print('You encountered:', trap + '!')\n",
    "            print('You lost 2 health points!')\n",
    "            print()\n",
    "        elif outcome == 'treasure':\n",
    "            treasure = random.choice(list(treasures.keys()))\n",
    "            player_inventory.append(treasure)\n",
    "            print('You found ' + treasure + '!')\n",
    "            print('It is worth ' + str(treasures[treasure]) + ' points!')\n",
    "            player_points += (treasures[treasure])\n",
    "            print()\n",
    "    elif player_choice == '2':\n",
    "        dungeon_room += 1\n",
    "        if dungeon_room > max_rooms:\n",
    "            print('You have completed all rooms! You won!')\n",
    "            print(\"Final player stats:\")\n",
    "            print(\"Health:\", player_health)\n",
    "            print(f\"Inventory: {\", \".join(items for items in player_inventory)}\")\n",
    "            print(\"Points:\", player_points)\n",
    "            print()\n",
    "            break\n",
    "    elif player_choice == '3':\n",
    "        print('Current player stats:')\n",
    "        print(\"Health:\", player_health)\n",
    "        print(f\"Inventory: {\", \".join(items for items in player_inventory)}\")\n",
    "        print(\"Points:\", player_points)\n",
    "        print()\n",
    "    elif player_choice == '4':\n",
    "        print('Thank you for playing!')\n",
    "        print(\"Final player stats:\")\n",
    "        print(\"Health:\", player_health)\n",
    "        print(f\"Inventory: {\", \".join(items for items in player_inventory)}\")\n",
    "        print(\"Points:\", player_points)\n",
    "        break\n",
    "    else:\n",
    "        print('Please enter a choice of 1 - 4.')\n",
    "if player_health == 0:\n",
    "    print('You ran out of health! Game Over!')\n",
    "    print(\"Final player stats:\")\n",
    "    print(\"Health:\", player_health)\n",
    "    print(f\"Inventory: {\", \".join(items for items in player_inventory)}\")\n",
    "    print(\"Points:\", player_points)"
   ]
  },
  {
   "cell_type": "code",
   "execution_count": null,
   "id": "d23eae5f",
   "metadata": {},
   "outputs": [],
   "source": [
    "\n",
    "\n",
    "\n",
    "# Step 4: Implement treasure search\n",
    "# If the player chooses to search, randomly decide if they find treasure or a trap.\n",
    "# If treasure, randomly pick from the treasure dictionary and add to inventory.\n",
    "# If trap, deduct 2 health points and print a message.\n",
    "\n",
    "\n",
    "# Step 5: Check health\n",
    "# If health drops to 0 or below, print a Game Over message and break the loop."
   ]
  },
  {
   "cell_type": "code",
   "execution_count": null,
   "id": "39cc69d2",
   "metadata": {},
   "outputs": [],
   "source": [
    "# Step 6: End of Game Summary\n",
    "# If the player quits or finishes all rooms, calculate the total value of the collected treasures.\n",
    "# Loop through the inventory and sum the gold value using the treasure dictionary.\n",
    "# Print the final health, inventory, and total treasure value.\n"
   ]
  }
 ],
 "metadata": {
  "kernelspec": {
   "display_name": "Python 3",
   "language": "python",
   "name": "python3"
  },
  "language_info": {
   "codemirror_mode": {
    "name": "ipython",
    "version": 3
   },
   "file_extension": ".py",
   "mimetype": "text/x-python",
   "name": "python",
   "nbconvert_exporter": "python",
   "pygments_lexer": "ipython3",
   "version": "3.13.5"
  }
 },
 "nbformat": 4,
 "nbformat_minor": 5
}
